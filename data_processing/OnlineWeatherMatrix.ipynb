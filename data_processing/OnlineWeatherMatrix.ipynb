{
 "cells": [
  {
   "cell_type": "code",
   "execution_count": 2,
   "metadata": {},
   "outputs": [],
   "source": [
    "import numpy as np\n",
    "import pandas as pd\n",
    "import time\n",
    "import datetime"
   ]
  },
  {
   "cell_type": "code",
   "execution_count": 3,
   "metadata": {},
   "outputs": [],
   "source": [
    "data = pd.read_csv('worldweatheronline.com/result_data.csv')"
   ]
  },
  {
   "cell_type": "code",
   "execution_count": 4,
   "metadata": {},
   "outputs": [],
   "source": [
    "table0 = data[['date', 'time', 'tempC', 'weatherDesc']]"
   ]
  },
  {
   "cell_type": "code",
   "execution_count": 5,
   "metadata": {},
   "outputs": [
    {
     "data": {
      "text/html": [
       "<div>\n",
       "<style scoped>\n",
       "    .dataframe tbody tr th:only-of-type {\n",
       "        vertical-align: middle;\n",
       "    }\n",
       "\n",
       "    .dataframe tbody tr th {\n",
       "        vertical-align: top;\n",
       "    }\n",
       "\n",
       "    .dataframe thead th {\n",
       "        text-align: right;\n",
       "    }\n",
       "</style>\n",
       "<table border=\"1\" class=\"dataframe\">\n",
       "  <thead>\n",
       "    <tr style=\"text-align: right;\">\n",
       "      <th></th>\n",
       "      <th>date</th>\n",
       "      <th>time</th>\n",
       "      <th>tempC</th>\n",
       "      <th>weatherDesc</th>\n",
       "    </tr>\n",
       "  </thead>\n",
       "  <tbody>\n",
       "    <tr>\n",
       "      <th>0</th>\n",
       "      <td>2009-04-01</td>\n",
       "      <td>0</td>\n",
       "      <td>0</td>\n",
       "      <td>Fog</td>\n",
       "    </tr>\n",
       "    <tr>\n",
       "      <th>1</th>\n",
       "      <td>2009-04-01</td>\n",
       "      <td>1200</td>\n",
       "      <td>2</td>\n",
       "      <td>Fog</td>\n",
       "    </tr>\n",
       "    <tr>\n",
       "      <th>2</th>\n",
       "      <td>2009-04-02</td>\n",
       "      <td>0</td>\n",
       "      <td>0</td>\n",
       "      <td>Overcast</td>\n",
       "    </tr>\n",
       "    <tr>\n",
       "      <th>3</th>\n",
       "      <td>2009-04-02</td>\n",
       "      <td>1200</td>\n",
       "      <td>1</td>\n",
       "      <td>Overcast</td>\n",
       "    </tr>\n",
       "    <tr>\n",
       "      <th>4</th>\n",
       "      <td>2009-04-03</td>\n",
       "      <td>0</td>\n",
       "      <td>-2</td>\n",
       "      <td>Freezing fog</td>\n",
       "    </tr>\n",
       "  </tbody>\n",
       "</table>\n",
       "</div>"
      ],
      "text/plain": [
       "         date  time  tempC   weatherDesc\n",
       "0  2009-04-01     0      0           Fog\n",
       "1  2009-04-01  1200      2           Fog\n",
       "2  2009-04-02     0      0      Overcast\n",
       "3  2009-04-02  1200      1      Overcast\n",
       "4  2009-04-03     0     -2  Freezing fog"
      ]
     },
     "execution_count": 5,
     "metadata": {},
     "output_type": "execute_result"
    }
   ],
   "source": [
    "table0.head()"
   ]
  },
  {
   "cell_type": "code",
   "execution_count": 39,
   "metadata": {},
   "outputs": [
    {
     "name": "stderr",
     "output_type": "stream",
     "text": [
      "/home/dmitry/anaconda3/lib/python3.7/site-packages/ipykernel_launcher.py:1: SettingWithCopyWarning: \n",
      "A value is trying to be set on a copy of a slice from a DataFrame.\n",
      "Try using .loc[row_indexer,col_indexer] = value instead\n",
      "\n",
      "See the caveats in the documentation: http://pandas.pydata.org/pandas-docs/stable/indexing.html#indexing-view-versus-copy\n",
      "  \"\"\"Entry point for launching an IPython kernel.\n",
      "/home/dmitry/anaconda3/lib/python3.7/site-packages/ipykernel_launcher.py:2: SettingWithCopyWarning: \n",
      "A value is trying to be set on a copy of a slice from a DataFrame.\n",
      "Try using .loc[row_indexer,col_indexer] = value instead\n",
      "\n",
      "See the caveats in the documentation: http://pandas.pydata.org/pandas-docs/stable/indexing.html#indexing-view-versus-copy\n",
      "  \n",
      "/home/dmitry/anaconda3/lib/python3.7/site-packages/ipykernel_launcher.py:3: SettingWithCopyWarning: \n",
      "A value is trying to be set on a copy of a slice from a DataFrame.\n",
      "Try using .loc[row_indexer,col_indexer] = value instead\n",
      "\n",
      "See the caveats in the documentation: http://pandas.pydata.org/pandas-docs/stable/indexing.html#indexing-view-versus-copy\n",
      "  This is separate from the ipykernel package so we can avoid doing imports until\n",
      "/home/dmitry/anaconda3/lib/python3.7/site-packages/ipykernel_launcher.py:4: SettingWithCopyWarning: \n",
      "A value is trying to be set on a copy of a slice from a DataFrame.\n",
      "Try using .loc[row_indexer,col_indexer] = value instead\n",
      "\n",
      "See the caveats in the documentation: http://pandas.pydata.org/pandas-docs/stable/indexing.html#indexing-view-versus-copy\n",
      "  after removing the cwd from sys.path.\n",
      "/home/dmitry/anaconda3/lib/python3.7/site-packages/pandas/core/frame.py:3940: SettingWithCopyWarning: \n",
      "A value is trying to be set on a copy of a slice from a DataFrame\n",
      "\n",
      "See the caveats in the documentation: http://pandas.pydata.org/pandas-docs/stable/indexing.html#indexing-view-versus-copy\n",
      "  errors=errors)\n"
     ]
    }
   ],
   "source": [
    "table0['day'] = [time.strptime(n, \"%Y-%m-%d\").tm_mday for n in table0['date']]\n",
    "table0['month'] = [time.strptime(n, \"%Y-%m-%d\").tm_mon for n in table0['date']]\n",
    "table0['year'] = [time.strptime(n, \"%Y-%m-%d\").tm_year for n in table0['date']]\n",
    "table0['status'] = [0 if n == 0 else 1 for n in table0['time']]\n",
    "table0.drop(['date'], axis='columns', inplace=True)"
   ]
  },
  {
   "cell_type": "code",
   "execution_count": 40,
   "metadata": {},
   "outputs": [],
   "source": [
    "table1 = table0.loc[(table0['month'] == 1)]\n",
    "table2 = table0.loc[(table0['month'] == 2)]\n",
    "table3 = table0.loc[(table0['month'] == 3)]\n",
    "table4 = table0.loc[(table0['month'] == 4)]\n",
    "table5 = table0.loc[(table0['month'] == 5)]\n",
    "table6 = table0.loc[(table0['month'] == 6)]\n",
    "table7 = table0.loc[(table0['month'] == 7)]\n",
    "table8 = table0.loc[(table0['month'] == 8)]\n",
    "table9 = table0.loc[(table0['month'] == 9)]\n",
    "table10 = table0.loc[(table0['month'] == 10)]\n",
    "table11 = table0.loc[(table0['month'] == 11)]\n",
    "table12 = table0.loc[(table0['month'] == 12)]\n",
    "table_np1 = table1.values\n",
    "table_np2 = table2.values\n",
    "table_np3 = table3.values\n",
    "table_np4 = table4.values\n",
    "table_np5 = table5.values\n",
    "table_np6 = table6.values\n",
    "table_np7 = table7.values\n",
    "table_np8 = table8.values\n",
    "table_np9 = table9.values\n",
    "table_np10 = table10.values\n",
    "table_np11 = table11.values\n",
    "table_np12 = table12.values"
   ]
  },
  {
   "cell_type": "code",
   "execution_count": 53,
   "metadata": {},
   "outputs": [
    {
     "data": {
      "text/html": [
       "<div>\n",
       "<style scoped>\n",
       "    .dataframe tbody tr th:only-of-type {\n",
       "        vertical-align: middle;\n",
       "    }\n",
       "\n",
       "    .dataframe tbody tr th {\n",
       "        vertical-align: top;\n",
       "    }\n",
       "\n",
       "    .dataframe thead th {\n",
       "        text-align: right;\n",
       "    }\n",
       "</style>\n",
       "<table border=\"1\" class=\"dataframe\">\n",
       "  <thead>\n",
       "    <tr style=\"text-align: right;\">\n",
       "      <th></th>\n",
       "      <th>time</th>\n",
       "      <th>tempC</th>\n",
       "      <th>weatherDesc</th>\n",
       "      <th>day</th>\n",
       "      <th>month</th>\n",
       "      <th>year</th>\n",
       "      <th>status</th>\n",
       "    </tr>\n",
       "  </thead>\n",
       "  <tbody>\n",
       "    <tr>\n",
       "      <th>550</th>\n",
       "      <td>0</td>\n",
       "      <td>-10</td>\n",
       "      <td>Freezing fog</td>\n",
       "      <td>1</td>\n",
       "      <td>1</td>\n",
       "      <td>2010</td>\n",
       "      <td>0</td>\n",
       "    </tr>\n",
       "    <tr>\n",
       "      <th>551</th>\n",
       "      <td>1200</td>\n",
       "      <td>-9</td>\n",
       "      <td>Mist</td>\n",
       "      <td>1</td>\n",
       "      <td>1</td>\n",
       "      <td>2010</td>\n",
       "      <td>1</td>\n",
       "    </tr>\n",
       "    <tr>\n",
       "      <th>552</th>\n",
       "      <td>0</td>\n",
       "      <td>-13</td>\n",
       "      <td>Freezing fog</td>\n",
       "      <td>2</td>\n",
       "      <td>1</td>\n",
       "      <td>2010</td>\n",
       "      <td>0</td>\n",
       "    </tr>\n",
       "    <tr>\n",
       "      <th>553</th>\n",
       "      <td>1200</td>\n",
       "      <td>-10</td>\n",
       "      <td>Freezing fog</td>\n",
       "      <td>2</td>\n",
       "      <td>1</td>\n",
       "      <td>2010</td>\n",
       "      <td>1</td>\n",
       "    </tr>\n",
       "    <tr>\n",
       "      <th>554</th>\n",
       "      <td>0</td>\n",
       "      <td>-15</td>\n",
       "      <td>Overcast</td>\n",
       "      <td>3</td>\n",
       "      <td>1</td>\n",
       "      <td>2010</td>\n",
       "      <td>0</td>\n",
       "    </tr>\n",
       "  </tbody>\n",
       "</table>\n",
       "</div>"
      ],
      "text/plain": [
       "     time  tempC   weatherDesc  day  month  year  status\n",
       "550     0    -10  Freezing fog    1      1  2010       0\n",
       "551  1200     -9          Mist    1      1  2010       1\n",
       "552     0    -13  Freezing fog    2      1  2010       0\n",
       "553  1200    -10  Freezing fog    2      1  2010       1\n",
       "554     0    -15      Overcast    3      1  2010       0"
      ]
     },
     "execution_count": 53,
     "metadata": {},
     "output_type": "execute_result"
    }
   ],
   "source": [
    "table1.head()"
   ]
  },
  {
   "cell_type": "code",
   "execution_count": 41,
   "metadata": {},
   "outputs": [],
   "source": [
    "def preprocessing(data):\n",
    "    processing_data = data\n",
    "    for i in processing_data:\n",
    "        if i[2] in {'Thundery outbreaks possible','Moderate rain',\n",
    "                    'Light drizzle','Light freezing rain','Moderate or heavy rain shower',\n",
    "                    'Patchy rain possible','Light rain shower','Patchy light drizzle',\n",
    "                    'Light rain','Moderate or heavy rain with thunder',\n",
    "                    'Moderate rain at times', 'Heavy rain','Patchy light rain',\n",
    "                    'Patchy light rain with thunder'}:\n",
    "            i[2] = 2\n",
    "        elif i[2] in {'Light snow','Patchy moderate snow','Heavy freezing drizzle',\n",
    "                      'Moderate snow', 'Heavy snow', 'Light snow showers',\n",
    "                      'Moderate or heavy sleet', 'Moderate or heavy snow showers',\n",
    "                      'Light sleet','Light sleet showers','Patchy snow possible',\n",
    "                      'Blizzard','Patchy heavy snow','Patchy light snow'}:\n",
    "            i[2] = 3\n",
    "        elif i[2] in {'Fog','Overcast','Freezing fog','Mist','Partly cloudy'}:\n",
    "            i[2] = 1\n",
    "        else:\n",
    "            i[2] = 0\n",
    "    return processing_data"
   ]
  },
  {
   "cell_type": "code",
   "execution_count": 42,
   "metadata": {},
   "outputs": [],
   "source": [
    "def func_coef(data):\n",
    "    #total = data.shape[0]\n",
    "    rainy = 0\n",
    "    sunny = 0\n",
    "    snowy = 0\n",
    "    cloudy = 0\n",
    "    matrix = np.zeros((4, 4))\n",
    "    i = 0\n",
    "    while i < data.shape[0]-1:\n",
    "        if data[i][2] == 2:\n",
    "            rainy += 1\n",
    "            matrix[2][data[i+1][2]] += 1 \n",
    "        elif data[i][2] == 3:\n",
    "            snowy += 1\n",
    "            matrix[3][data[i+1][2]] += 1\n",
    "        elif data[i][2] == 1:\n",
    "            cloudy += 1\n",
    "            matrix[1][data[i+1][2]] += 1\n",
    "        else:\n",
    "            sunny += 1\n",
    "            matrix[0][data[i+1][2]] += 1\n",
    "        i += 1 \n",
    "    if sunny > 0:\n",
    "        matrix[0] = matrix[0] / sunny\n",
    "    elif sunny == 0:\n",
    "        matrix[0] = [0.25, 0.25, 0.25, 0.25]\n",
    "    if cloudy > 0:\n",
    "        matrix[1] = matrix[1] / cloudy\n",
    "    elif cloudy == 0:\n",
    "        matrix[1] = [0.25, 0.25, 0.25, 0.25]\n",
    "    if rainy > 0:\n",
    "        matrix[2] = matrix[2] / rainy\n",
    "    elif rainy == 0:\n",
    "        matrix[2] = [0.25, 0.25, 0.25, 0.25]\n",
    "    if snowy > 0:\n",
    "        matrix[3] = matrix[3] / snowy\n",
    "    elif snowy == 0:\n",
    "        matrix[3] = [0.25, 0.25, 0.25, 0.25]\n",
    "    return matrix"
   ]
  },
  {
   "cell_type": "code",
   "execution_count": 43,
   "metadata": {},
   "outputs": [],
   "source": [
    "t1 = preprocessing(table_np1)\n",
    "t2 = preprocessing(table_np2)\n",
    "t3 = preprocessing(table_np3)\n",
    "t4 = preprocessing(table_np4)\n",
    "t5 = preprocessing(table_np5)\n",
    "t6 = preprocessing(table_np6)\n",
    "t7 = preprocessing(table_np7)\n",
    "t8 = preprocessing(table_np8)\n",
    "t9 = preprocessing(table_np9)\n",
    "t10 = preprocessing(table_np10)\n",
    "t11 = preprocessing(table_np11)\n",
    "t12 = preprocessing(table_np12)"
   ]
  },
  {
   "cell_type": "code",
   "execution_count": 96,
   "metadata": {},
   "outputs": [],
   "source": [
    "M1 = func_coef(t1)\n",
    "M2 = func_coef(t2)\n",
    "M3 = func_coef(t3)\n",
    "M4 = func_coef(t4)\n",
    "M5 = func_coef(t5)\n",
    "M6 = func_coef(t6)\n",
    "M7 = func_coef(t7)\n",
    "M8 = func_coef(t8)\n",
    "M9 = func_coef(t9)\n",
    "M10 = func_coef(t10)\n",
    "M11 = func_coef(t11)\n",
    "M12 = func_coef(t12)"
   ]
  },
  {
   "cell_type": "code",
   "execution_count": 125,
   "metadata": {},
   "outputs": [
    {
     "data": {
      "text/plain": [
       "array([[0.30769231, 0.66153846, 0.        , 0.03076923],\n",
       "       [0.07792208, 0.86085343, 0.01298701, 0.04823748],\n",
       "       [0.        , 0.45454545, 0.27272727, 0.27272727],\n",
       "       [0.04545455, 0.39393939, 0.01515152, 0.54545455]])"
      ]
     },
     "execution_count": 125,
     "metadata": {},
     "output_type": "execute_result"
    }
   ],
   "source": [
    "M1"
   ]
  },
  {
   "cell_type": "code",
   "execution_count": 122,
   "metadata": {},
   "outputs": [],
   "source": [
    "M = np.array([])\n",
    "M = np.append(M, M1)\n",
    "M = np.append(M, M2)\n",
    "M = np.append(M, M3)\n",
    "M = np.append(M, M4)\n",
    "M = np.append(M, M5)\n",
    "M = np.append(M, M6)\n",
    "M = np.append(M, M7)\n",
    "M = np.append(M, M8)\n",
    "M = np.append(M, M9)\n",
    "M = np.append(M, M10)\n",
    "M = np.append(M, M11)\n",
    "M = np.append(M, M12)"
   ]
  },
  {
   "cell_type": "code",
   "execution_count": 127,
   "metadata": {},
   "outputs": [],
   "source": [
    "M = np.reshape(M, (12,4,4))"
   ]
  },
  {
   "cell_type": "code",
   "execution_count": 142,
   "metadata": {},
   "outputs": [],
   "source": [
    "np.save('matrices/matrix1', M)  "
   ]
  },
  {
   "cell_type": "code",
   "execution_count": 143,
   "metadata": {},
   "outputs": [],
   "source": [
    "my_matrix = np.load(open(\"matrices/matrix1.npy\",\"rb\"))"
   ]
  },
  {
   "cell_type": "code",
   "execution_count": 144,
   "metadata": {},
   "outputs": [
    {
     "data": {
      "text/plain": [
       "array([[[0.30769231, 0.66153846, 0.        , 0.03076923],\n",
       "        [0.07792208, 0.86085343, 0.01298701, 0.04823748],\n",
       "        [0.        , 0.45454545, 0.27272727, 0.27272727],\n",
       "        [0.04545455, 0.39393939, 0.01515152, 0.54545455]],\n",
       "\n",
       "       [[0.34545455, 0.6       , 0.        , 0.05454545],\n",
       "        [0.06361829, 0.89065606, 0.00795229, 0.03777336],\n",
       "        [0.        , 0.5       , 0.25      , 0.25      ],\n",
       "        [0.07272727, 0.30909091, 0.03636364, 0.58181818]],\n",
       "\n",
       "       [[0.28723404, 0.69148936, 0.        , 0.0212766 ],\n",
       "        [0.11494253, 0.81226054, 0.02873563, 0.0440613 ],\n",
       "        [0.08695652, 0.47826087, 0.2173913 , 0.2173913 ],\n",
       "        [0.11904762, 0.5       , 0.07142857, 0.30952381]],\n",
       "\n",
       "       [[0.52232143, 0.4375    , 0.04017857, 0.        ],\n",
       "        [0.24582339, 0.69689737, 0.04295943, 0.01431981],\n",
       "        [0.075     , 0.625     , 0.25      , 0.05      ],\n",
       "        [0.09090909, 0.36363636, 0.27272727, 0.27272727]],\n",
       "\n",
       "       [[0.59930314, 0.3554007 , 0.04529617, 0.        ],\n",
       "        [0.31034483, 0.56112853, 0.12539185, 0.0031348 ],\n",
       "        [0.21621622, 0.5       , 0.28378378, 0.        ],\n",
       "        [0.        , 1.        , 0.        , 0.        ]],\n",
       "\n",
       "       [[0.47727273, 0.47348485, 0.04924242, 0.        ],\n",
       "        [0.36111111, 0.6       , 0.03888889, 0.        ],\n",
       "        [0.2       , 0.54285714, 0.25714286, 0.        ],\n",
       "        [0.25      , 0.25      , 0.25      , 0.25      ]],\n",
       "\n",
       "       [[0.54909091, 0.40727273, 0.04363636, 0.        ],\n",
       "        [0.32670455, 0.59090909, 0.08238636, 0.        ],\n",
       "        [0.14814815, 0.59259259, 0.25925926, 0.        ],\n",
       "        [0.25      , 0.25      , 0.25      , 0.25      ]],\n",
       "\n",
       "       [[0.63407821, 0.33519553, 0.03072626, 0.        ],\n",
       "        [0.41780822, 0.53767123, 0.04452055, 0.        ],\n",
       "        [0.25806452, 0.51612903, 0.22580645, 0.        ],\n",
       "        [0.25      , 0.25      , 0.25      , 0.25      ]],\n",
       "\n",
       "       [[0.50826446, 0.48347107, 0.00826446, 0.        ],\n",
       "        [0.29411765, 0.66240409, 0.04347826, 0.        ],\n",
       "        [0.11538462, 0.57692308, 0.30769231, 0.        ],\n",
       "        [0.25      , 0.25      , 0.25      , 0.25      ]],\n",
       "\n",
       "       [[0.40201005, 0.57788945, 0.0201005 , 0.        ],\n",
       "        [0.25727069, 0.70693512, 0.02684564, 0.00894855],\n",
       "        [0.12      , 0.52      , 0.32      , 0.04      ],\n",
       "        [0.1       , 0.3       , 0.1       , 0.5       ]],\n",
       "\n",
       "       [[0.39735099, 0.58940397, 0.01324503, 0.        ],\n",
       "        [0.17718941, 0.80244399, 0.01832994, 0.00203666],\n",
       "        [0.14285714, 0.64285714, 0.21428571, 0.        ],\n",
       "        [0.33333333, 0.        , 0.        , 0.66666667]],\n",
       "\n",
       "       [[0.17910448, 0.82089552, 0.        , 0.        ],\n",
       "        [0.09122203, 0.87607573, 0.01549053, 0.0172117 ],\n",
       "        [0.07142857, 0.57142857, 0.28571429, 0.07142857],\n",
       "        [0.05263158, 0.42105263, 0.05263158, 0.47368421]]])"
      ]
     },
     "execution_count": 144,
     "metadata": {},
     "output_type": "execute_result"
    }
   ],
   "source": [
    "my_matrix"
   ]
  },
  {
   "cell_type": "markdown",
   "metadata": {},
   "source": [
    "$\\begin{equation*}\n",
    "T =\n",
    "\\begin{pmatrix}\n",
    "su\\rightarrow su & su\\rightarrow c  & su\\rightarrow r & su\\rightarrow sn\\\\\n",
    "c\\rightarrow su & c\\rightarrow c & c\\rightarrow r & c\\rightarrow sn\\\\\n",
    "r\\rightarrow su & r\\rightarrow c & r\\rightarrow r & r\\rightarrow sn\\\\\n",
    "sn\\rightarrow su & sn\\rightarrow c & sn\\rightarrow r & sn\\rightarrow sn\n",
    "\\end{pmatrix}\n",
    "\\end{equation*}$"
   ]
  },
  {
   "cell_type": "code",
   "execution_count": 67,
   "metadata": {},
   "outputs": [],
   "source": [
    "def temp_comp(data):\n",
    "    result = np.array([])\n",
    "    i = 0\n",
    "    while i < data.shape[0]-1:\n",
    "        if data[i+1][1] - data[i][1] < -5:\n",
    "            result = np.append(result, 0)\n",
    "        elif (data[i+1][1] - data[i][1] >= -5) and (data[i+1][1] - data[i][1] < -2):\n",
    "            result = np.append(result, 1)\n",
    "        elif (data[i+1][1] - data[i][1] >= -2) and (data[i+1][1] - data[i][1] <= 2):\n",
    "            result = np.append(result, 2)\n",
    "        elif (data[i+1][1] - data[i][1] > 2) and (data[i+1][1] - data[i][1] <= 5):\n",
    "            result = np.append(result, 3)\n",
    "        else:\n",
    "            result = np.append(result, 4)\n",
    "        i += 1\n",
    "    return result"
   ]
  },
  {
   "cell_type": "code",
   "execution_count": 68,
   "metadata": {},
   "outputs": [],
   "source": [
    "diff1 = temp_comp(t1)\n",
    "diff2 = temp_comp(t2)\n",
    "diff3 = temp_comp(t3)\n",
    "diff4 = temp_comp(t4)\n",
    "diff5 = temp_comp(t5)\n",
    "diff6 = temp_comp(t6)\n",
    "diff7 = temp_comp(t7)\n",
    "diff8 = temp_comp(t8)\n",
    "diff9 = temp_comp(t9)\n",
    "diff10 = temp_comp(t10)\n",
    "diff11 = temp_comp(t11)\n",
    "diff12 = temp_comp(t12)"
   ]
  },
  {
   "cell_type": "code",
   "execution_count": 72,
   "metadata": {},
   "outputs": [],
   "source": [
    "def temp_matrix(data):\n",
    "    l5 = 0\n",
    "    l2 = 0\n",
    "    b = 0\n",
    "    m2 = 0\n",
    "    m5 = 0\n",
    "    matrix = np.zeros((5, 5))\n",
    "    i = 0\n",
    "    while i < data.shape[0]-1:\n",
    "        if data[i] == 0:\n",
    "            l5 += 1\n",
    "            matrix[0][int(data[i+1])] += 1\n",
    "        elif data[i] == 1:\n",
    "            l2 += 1\n",
    "            matrix[1][int(data[i+1])] += 1\n",
    "        elif data[i] == 2:\n",
    "            b += 1\n",
    "            matrix[2][int(data[i+1])] += 1\n",
    "        elif data[i] == 3:\n",
    "            m2 += 1\n",
    "            matrix[3][int(data[i+1])] += 1\n",
    "        else:\n",
    "            m5 += 1\n",
    "            matrix[4][int(data[i+1])] += 1\n",
    "        i += 1\n",
    "    if l5 > 0:\n",
    "        matrix[0] = matrix[0] / l5\n",
    "    elif l5 == 0:\n",
    "        matrix[0] = [0.2, 0.2, 0.2, 0.2, 0.2]\n",
    "    if l2 > 0:\n",
    "        matrix[1] = matrix[1] / l2\n",
    "    elif l2 == 0:\n",
    "        matrix[1] = [0.2, 0.2, 0.2, 0.2, 0.2]\n",
    "    if b > 0:\n",
    "        matrix[2] = matrix[2] / b\n",
    "    elif b == 0:\n",
    "        matrix[2] = [0.2, 0.2, 0.2, 0.2, 0.2]\n",
    "    if m2 > 0:\n",
    "        matrix[3] = matrix[3] / m2\n",
    "    elif b == 0:\n",
    "        matrix[3] = [0.2, 0.2, 0.2, 0.2, 0.2]\n",
    "    if m5 > 0:\n",
    "        matrix[4] = matrix[4] / m5\n",
    "    elif m5 == 0:\n",
    "        matrix[4] = [0.2, 0.2, 0.2, 0.2, 0.2]\n",
    "    return matrix"
   ]
  },
  {
   "cell_type": "code",
   "execution_count": 73,
   "metadata": {},
   "outputs": [],
   "source": [
    "T1 = temp_matrix(diff1)\n",
    "T2 = temp_matrix(diff2)\n",
    "T3 = temp_matrix(diff3)\n",
    "T4 = temp_matrix(diff4)\n",
    "T5 = temp_matrix(diff5)\n",
    "T6 = temp_matrix(diff6)\n",
    "T7 = temp_matrix(diff7)\n",
    "T8 = temp_matrix(diff8)\n",
    "T9 = temp_matrix(diff9)\n",
    "T10 = temp_matrix(diff10)\n",
    "T11 = temp_matrix(diff11)\n",
    "T12 = temp_matrix(diff12)"
   ]
  },
  {
   "cell_type": "code",
   "execution_count": 74,
   "metadata": {},
   "outputs": [
    {
     "data": {
      "text/plain": [
       "array([[0.01785714, 0.05357143, 0.26785714, 0.25      , 0.41071429],\n",
       "       [0.056     , 0.064     , 0.36      , 0.312     , 0.208     ],\n",
       "       [0.06012658, 0.17088608, 0.5664557 , 0.17088608, 0.03164557],\n",
       "       [0.13675214, 0.35042735, 0.42735043, 0.05982906, 0.02564103],\n",
       "       [0.1969697 , 0.28787879, 0.39393939, 0.06060606, 0.06060606]])"
      ]
     },
     "execution_count": 74,
     "metadata": {},
     "output_type": "execute_result"
    }
   ],
   "source": [
    "T1"
   ]
  },
  {
   "cell_type": "code",
   "execution_count": 145,
   "metadata": {},
   "outputs": [],
   "source": [
    "T = np.array([])\n",
    "T = np.append(T, T1)\n",
    "T = np.append(T, T2)\n",
    "T = np.append(T, T3)\n",
    "T = np.append(T, T4)\n",
    "T = np.append(T, T5)\n",
    "T = np.append(T, T6)\n",
    "T = np.append(T, T7)\n",
    "T = np.append(T, T8)\n",
    "T = np.append(T, T9)\n",
    "T = np.append(T, T10)\n",
    "T = np.append(T, T11)\n",
    "T = np.append(T, T12)"
   ]
  },
  {
   "cell_type": "code",
   "execution_count": 148,
   "metadata": {},
   "outputs": [],
   "source": [
    "T = np.reshape(T, (12,5,5))"
   ]
  },
  {
   "cell_type": "code",
   "execution_count": 149,
   "metadata": {},
   "outputs": [],
   "source": [
    "np.save('matrices/matrix2', T)  "
   ]
  },
  {
   "cell_type": "code",
   "execution_count": 151,
   "metadata": {},
   "outputs": [],
   "source": [
    "my_matrix2 = np.load(open(\"matrices/matrix2.npy\",\"rb\"))"
   ]
  },
  {
   "cell_type": "code",
   "execution_count": 152,
   "metadata": {},
   "outputs": [
    {
     "data": {
      "text/plain": [
       "array([[[0.01785714, 0.05357143, 0.26785714, 0.25      , 0.41071429],\n",
       "        [0.056     , 0.064     , 0.36      , 0.312     , 0.208     ],\n",
       "        [0.06012658, 0.17088608, 0.5664557 , 0.17088608, 0.03164557],\n",
       "        [0.13675214, 0.35042735, 0.42735043, 0.05982906, 0.02564103],\n",
       "        [0.1969697 , 0.28787879, 0.39393939, 0.06060606, 0.06060606]],\n",
       "\n",
       "       [[0.        , 0.01123596, 0.06741573, 0.21348315, 0.70786517],\n",
       "        [0.        , 0.04166667, 0.36458333, 0.4375    , 0.15625   ],\n",
       "        [0.12301587, 0.13492063, 0.59920635, 0.11904762, 0.02380952],\n",
       "        [0.20833333, 0.38541667, 0.375     , 0.02083333, 0.01041667],\n",
       "        [0.43678161, 0.22988506, 0.28735632, 0.03448276, 0.01149425]],\n",
       "\n",
       "       [[0.        , 0.01785714, 0.05357143, 0.24107143, 0.6875    ],\n",
       "        [0.00694444, 0.00694444, 0.21527778, 0.53472222, 0.23611111],\n",
       "        [0.12426036, 0.17159763, 0.47928994, 0.18343195, 0.04142012],\n",
       "        [0.27007299, 0.46715328, 0.25547445, 0.00729927, 0.        ],\n",
       "        [0.44915254, 0.40677966, 0.1440678 , 0.        , 0.        ]],\n",
       "\n",
       "       [[0.        , 0.01388889, 0.05555556, 0.13425926, 0.7962963 ],\n",
       "        [0.        , 0.03      , 0.24      , 0.34      , 0.39      ],\n",
       "        [0.14285714, 0.32142857, 0.30952381, 0.14285714, 0.08333333],\n",
       "        [0.36      , 0.4       , 0.24      , 0.        , 0.        ],\n",
       "        [0.81192661, 0.16972477, 0.01834862, 0.        , 0.        ]],\n",
       "\n",
       "       [[0.        , 0.00344828, 0.07586207, 0.09310345, 0.82758621],\n",
       "        [0.        , 0.02631579, 0.10526316, 0.21052632, 0.65789474],\n",
       "        [0.2195122 , 0.2195122 , 0.29268293, 0.14634146, 0.12195122],\n",
       "        [0.475     , 0.45      , 0.075     , 0.        , 0.        ],\n",
       "        [0.96678967, 0.03321033, 0.        , 0.        , 0.        ]],\n",
       "\n",
       "       [[0.        , 0.        , 0.03401361, 0.12244898, 0.84353741],\n",
       "        [0.        , 0.        , 0.15384615, 0.19230769, 0.65384615],\n",
       "        [0.16666667, 0.33333333, 0.16666667, 0.04166667, 0.29166667],\n",
       "        [0.69047619, 0.21428571, 0.0952381 , 0.        , 0.        ],\n",
       "        [0.95955882, 0.03308824, 0.00735294, 0.        , 0.        ]],\n",
       "\n",
       "       [[0.        , 0.        , 0.01324503, 0.08609272, 0.90066225],\n",
       "        [0.        , 0.        , 0.12121212, 0.3030303 , 0.57575758],\n",
       "        [0.08333333, 0.33333333, 0.16666667, 0.25      , 0.16666667],\n",
       "        [0.48717949, 0.46153846, 0.05128205, 0.        , 0.        ],\n",
       "        [0.95918367, 0.03741497, 0.00340136, 0.        , 0.        ]],\n",
       "\n",
       "       [[0.        , 0.00358423, 0.03584229, 0.10035842, 0.86021505],\n",
       "        [0.        , 0.        , 0.28947368, 0.31578947, 0.39473684],\n",
       "        [0.08      , 0.22      , 0.34      , 0.1       , 0.26      ],\n",
       "        [0.63636364, 0.15909091, 0.20454545, 0.        , 0.        ],\n",
       "        [0.91821561, 0.07063197, 0.01115242, 0.        , 0.        ]],\n",
       "\n",
       "       [[0.        , 0.00990099, 0.0990099 , 0.17326733, 0.71782178],\n",
       "        [0.02173913, 0.01086957, 0.18478261, 0.41304348, 0.36956522],\n",
       "        [0.08333333, 0.26190476, 0.41666667, 0.1547619 , 0.08333333],\n",
       "        [0.35227273, 0.51136364, 0.10227273, 0.        , 0.03409091],\n",
       "        [0.84375   , 0.11458333, 0.02083333, 0.01041667, 0.01041667]],\n",
       "\n",
       "       [[0.        , 0.0106383 , 0.13829787, 0.27659574, 0.57446809],\n",
       "        [0.01242236, 0.04347826, 0.26086957, 0.50310559, 0.18012422],\n",
       "        [0.06451613, 0.27419355, 0.44086022, 0.19892473, 0.02150538],\n",
       "        [0.24827586, 0.45517241, 0.26206897, 0.00689655, 0.02758621],\n",
       "        [0.46808511, 0.38297872, 0.12765957, 0.        , 0.0212766 ]],\n",
       "\n",
       "       [[0.        , 0.        , 0.38461538, 0.46153846, 0.15384615],\n",
       "        [0.        , 0.05128205, 0.47008547, 0.41025641, 0.06837607],\n",
       "        [0.01970443, 0.18472906, 0.6773399 , 0.10837438, 0.00985222],\n",
       "        [0.04672897, 0.29906542, 0.56074766, 0.08411215, 0.00934579],\n",
       "        [0.        , 0.26666667, 0.66666667, 0.06666667, 0.        ]],\n",
       "\n",
       "       [[0.        , 0.12      , 0.48      , 0.12      , 0.28      ],\n",
       "        [0.        , 0.07777778, 0.58888889, 0.23333333, 0.1       ],\n",
       "        [0.03146067, 0.14157303, 0.68539326, 0.11460674, 0.02696629],\n",
       "        [0.0989011 , 0.15384615, 0.62637363, 0.12087912, 0.        ],\n",
       "        [0.06896552, 0.10344828, 0.5862069 , 0.17241379, 0.06896552]]])"
      ]
     },
     "execution_count": 152,
     "metadata": {},
     "output_type": "execute_result"
    }
   ],
   "source": [
    "my_matrix2"
   ]
  },
  {
   "cell_type": "code",
   "execution_count": null,
   "metadata": {},
   "outputs": [],
   "source": []
  }
 ],
 "metadata": {
  "kernelspec": {
   "display_name": "Python 3",
   "language": "python",
   "name": "python3"
  },
  "language_info": {
   "codemirror_mode": {
    "name": "ipython",
    "version": 3
   },
   "file_extension": ".py",
   "mimetype": "text/x-python",
   "name": "python",
   "nbconvert_exporter": "python",
   "pygments_lexer": "ipython3",
   "version": "3.7.3"
  }
 },
 "nbformat": 4,
 "nbformat_minor": 2
}
